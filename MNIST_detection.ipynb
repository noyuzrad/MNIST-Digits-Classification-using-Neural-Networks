{
  "nbformat": 4,
  "nbformat_minor": 0,
  "metadata": {
    "kernelspec": {
      "name": "python3",
      "display_name": "Python 3"
    },
    "colab": {
      "name": "MNIST_detection.ipynb",
      "provenance": [],
      "collapsed_sections": [],
      "include_colab_link": true
    }
  },
  "cells": [
    {
      "cell_type": "markdown",
      "metadata": {
        "id": "view-in-github",
        "colab_type": "text"
      },
      "source": [
        "<a href=\"https://colab.research.google.com/github/noyuzrad/MNIST-Digits-Classification-using-Neural-Networks/blob/main/MNIST_detection.ipynb\" target=\"_parent\"><img src=\"https://colab.research.google.com/assets/colab-badge.svg\" alt=\"Open In Colab\"/></a>"
      ]
    },
    {
      "cell_type": "markdown",
      "metadata": {
        "id": "Gbl4asdQIFCc"
      },
      "source": [
        "# MNIST Digits Classification using Neural Networks\n",
        "\n"
      ]
    },
    {
      "cell_type": "markdown",
      "metadata": {
        "id": "Ykpbn7glGgMn"
      },
      "source": [
        "Mount your drive in order to run locally with colab"
      ]
    },
    {
      "cell_type": "code",
      "metadata": {
        "id": "IpNBHS0MTggD",
        "colab": {
          "base_uri": "https://localhost:8080/"
        },
        "outputId": "239003f1-9c99-43fa-e399-7aa6e7e1c87b"
      },
      "source": [
        "from google.colab import drive\n",
        "drive.mount('/content/gdrive')"
      ],
      "execution_count": null,
      "outputs": [
        {
          "output_type": "stream",
          "text": [
            "Mounted at /content/gdrive\n"
          ],
          "name": "stdout"
        }
      ]
    },
    {
      "cell_type": "markdown",
      "metadata": {
        "id": "qg89LL10TfQw"
      },
      "source": [
        "download & load the MNIST dataset.\n",
        "\n",
        "*just run the next two cells and observe the outputs (shift&enter) "
      ]
    },
    {
      "cell_type": "code",
      "metadata": {
        "id": "0oFFceCNGgMo",
        "colab": {
          "base_uri": "https://localhost:8080/",
          "height": 638
        },
        "outputId": "96e5c43f-cffc-49be-96c3-a7f8d3c8fa26"
      },
      "source": [
        "\n",
        "#importing modules that will be in use\n",
        "%matplotlib inline\n",
        "import os\n",
        "import numpy as np\n",
        "import matplotlib.pyplot as plt\n",
        "import urllib.request\n",
        "import gzip\n",
        "import pickle\n",
        "from PIL import Image\n",
        "import random\n",
        "import numpy as np\n",
        "import pdb\n",
        "\n",
        "def _download(file_name):\n",
        "    file_path = os.path.join(dataset_dir,file_name)\n",
        "\n",
        "    if os.path.exists(file_path):\n",
        "        return\n",
        "\n",
        "    print(\"Downloading \" + file_name + \" ... \")\n",
        "    urllib.request.urlretrieve(url_base + file_name, file_name)\n",
        "    print(\"Done\")\n",
        "\n",
        "def download_mnist():\n",
        "    for v in key_file.values():\n",
        "       _download(v)\n",
        "\n",
        "def _load_label(file_name):\n",
        "    file_path =  os.path.join(dataset_dir, file_name)\n",
        "\n",
        "    print(\"Converting \" + file_name + \" to NumPy Array ...\")\n",
        "    with gzip.open(file_path, 'rb') as f:\n",
        "            labels = np.frombuffer(f.read(), np.uint8, offset=8)\n",
        "    print(\"Done\")\n",
        "\n",
        "    return labels\n",
        "\n",
        "def _load_img(file_name):\n",
        "    file_path = os.path.join(dataset_dir,file_name)\n",
        "\n",
        "    print(\"Converting \" + file_name + \" to NumPy Array ...\")\n",
        "    with gzip.open(file_path, 'rb') as f:\n",
        "            data = np.frombuffer(f.read(), np.uint8, offset=16)\n",
        "    data = data.reshape(-1, img_size)\n",
        "    print(\"Done\")\n",
        "\n",
        "    return data\n",
        "\n",
        "def _convert_numpy():\n",
        "    dataset = {}\n",
        "    dataset['train_img'] =  _load_img(key_file['train_img'])\n",
        "    dataset['train_label'] = _load_label(key_file['train_label'])\n",
        "    dataset['test_img'] = _load_img(key_file['test_img'])\n",
        "    dataset['test_label'] = _load_label(key_file['test_label'])\n",
        "\n",
        "    return dataset\n",
        "\n",
        "def init_mnist():\n",
        "    download_mnist()\n",
        "    dataset = _convert_numpy()\n",
        "    print(\"Creating pickle file ...\")\n",
        "    with open(save_file, 'wb') as f:\n",
        "        pickle.dump(dataset, f, -1)\n",
        "    print(\"Done\")\n",
        "\n",
        "def _change_one_hot_label(X):\n",
        "    T = np.zeros((X.size, 10))\n",
        "    for idx, row in enumerate(T):\n",
        "        row[X[idx]] = 1\n",
        "\n",
        "    return T\n",
        "\n",
        "def load_mnist(normalize=True, flatten=True, one_hot_label=False):\n",
        "    \"\"\"\n",
        "    Parameters\n",
        "    ----------\n",
        "    normalize : Normalize the pixel values\n",
        "    flatten : Flatten the images as one array\n",
        "    one_hot_label : Encode the labels as a one-hot array\n",
        "\n",
        "    Returns\n",
        "    -------\n",
        "    (Trainig Image, Training Label), (Test Image, Test Label)\n",
        "    \"\"\"\n",
        "    if not os.path.exists(save_file):\n",
        "        init_mnist()\n",
        "\n",
        "    with open(save_file, 'rb') as f:\n",
        "        dataset = pickle.load(f)\n",
        "\n",
        "    if normalize:\n",
        "        for key in ('train_img', 'test_img'):\n",
        "            dataset[key] = dataset[key].astype(np.float32)\n",
        "            dataset[key] /= 255.0\n",
        "\n",
        "    if not flatten:\n",
        "         for key in ('train_img', 'test_img'):\n",
        "            dataset[key] = dataset[key].reshape(-1, 1, 28, 28)\n",
        "\n",
        "    if one_hot_label:\n",
        "        dataset['train_label'] = _change_one_hot_label(dataset['train_label'])\n",
        "        dataset['test_label'] = _change_one_hot_label(dataset['test_label'])\n",
        "\n",
        "    return (dataset['train_img'], dataset['train_label']), (dataset['test_img'], dataset['test_label'])\n",
        "\n",
        "\n",
        "# Load the MNIST dataset\n",
        "url_base = 'http://yann.lecun.com/exdb/mnist/'\n",
        "key_file = {\n",
        "    'train_img':'train-images-idx3-ubyte.gz',\n",
        "    'train_label':'train-labels-idx1-ubyte.gz',\n",
        "    'test_img':'t10k-images-idx3-ubyte.gz',\n",
        "    'test_label':'t10k-labels-idx1-ubyte.gz'\n",
        "}\n",
        "\n",
        "dataset_dir = '/content'\n",
        "save_file = dataset_dir + \"/mnist.pkl\"\n",
        "\n",
        "train_num = 60000\n",
        "test_num = 10000\n",
        "img_dim = (1, 28, 28)\n",
        "img_size = 784\n",
        "\n",
        "(x_train, t_train), (x_test, t_test) = load_mnist(normalize=True, flatten=True)\n",
        "\n",
        "\n",
        "# printing data shape\n",
        "\n",
        "print('the training data set contains '+ str(x_train.shape[0]) + ' samples')\n",
        "\n",
        "img = x_train[0]\n",
        "label = t_train[0]\n",
        "\n",
        "img = img.reshape(28, 28)\n",
        "print('each sample image from the training data set is a column-stacked grayscale image of '+ str(x_train.shape[1]) +' pixels'\n",
        "      + '\\n this vectorized arrangement of the data is suitable for a Fully-Connected NN (as apposed to a Convolutional NN)' )\n",
        "print('these column-stacked images can be reshaped to an image of ' +str(img.shape)+ ' pixels')\n",
        "\n",
        "# printing a sample from the dataset\n",
        "\n",
        "plt.imshow(img, cmap='gray')\n",
        "plt.axis('off')\n",
        "plt.title('The ground truth label of this image is '+str(label))\n",
        "plt.show()"
      ],
      "execution_count": null,
      "outputs": [
        {
          "output_type": "stream",
          "text": [
            "Downloading train-images-idx3-ubyte.gz ... \n",
            "Done\n",
            "Downloading train-labels-idx1-ubyte.gz ... \n",
            "Done\n",
            "Downloading t10k-images-idx3-ubyte.gz ... \n",
            "Done\n",
            "Downloading t10k-labels-idx1-ubyte.gz ... \n",
            "Done\n",
            "Converting train-images-idx3-ubyte.gz to NumPy Array ...\n",
            "Done\n",
            "Converting train-labels-idx1-ubyte.gz to NumPy Array ...\n",
            "Done\n",
            "Converting t10k-images-idx3-ubyte.gz to NumPy Array ...\n",
            "Done\n",
            "Converting t10k-labels-idx1-ubyte.gz to NumPy Array ...\n",
            "Done\n",
            "Creating pickle file ...\n",
            "Done\n",
            "the training data set contains 60000 samples\n",
            "each sample image from the training data set is a column-stacked grayscale image of 784 pixels\n",
            " this vectorized arrangement of the data is suitable for a Fully-Connected NN (as apposed to a Convolutional NN)\n",
            "these column-stacked images can be reshaped to an image of (28, 28) pixels\n"
          ],
          "name": "stdout"
        },
        {
          "output_type": "display_data",
          "data": {
            "image/png": "[encoded data removed]",
            "text/plain": [
              "<Figure size 432x288 with 1 Axes>"
            ]
          },
          "metadata": {
            "tags": [],
            "needs_background": "light"
          }
        }
      ]
    },
    {
      "cell_type": "code",
      "metadata": {
        "id": "Q8h43VmTIFCo",
        "colab": {
          "base_uri": "https://localhost:8080/",
          "height": 264
        },
        "outputId": "6ad5c4d4-98e3-4ab8-f1bc-8b725d1e857e"
      },
      "source": [
        "# Visualize some examples from the dataset.\n",
        "# We'll show a few examples of training images from each class.\n",
        "num_classes = 10\n",
        "samples_per_class = 7\n",
        "for cls in range(num_classes):\n",
        "    idxs = np.argwhere(t_train==cls)\n",
        "    sample = np.random.choice(idxs.shape[0], samples_per_class, replace=False) # randomly picks 7 from the appearences \n",
        "    idxs=idxs[sample]\n",
        "\n",
        "    for i, idx in enumerate(idxs):\n",
        "        plt_idx = i * num_classes + cls + 1\n",
        "        plt.subplot(samples_per_class, num_classes, plt_idx)\n",
        "        img = x_train[idx].reshape(28, 28)\n",
        "\n",
        "        plt.imshow(img, cmap='gray')\n",
        "        plt.axis('off')\n",
        "        if i == 0:\n",
        "            plt.title(cls)\n",
        "plt.show()"
      ],
      "execution_count": null,
      "outputs": [
        {
          "output_type": "display_data",
          "data": {
            "image/png": "[encoded data removed]",
            "text/plain": [
              "<Figure size 432x288 with 70 Axes>"
            ]
          },
          "metadata": {
            "tags": [],
            "needs_background": "light"
          }
        }
      ]
    },
    {
      "cell_type": "markdown",
      "metadata": {
        "id": "R3y5IDyqIFCr"
      },
      "source": [
        "**QUESTION 1**:What are vanishing gradients? Name one known activation function that has this problem and one that does not.\n",
        "\n",
        "**ANSWER**:Vanishing gradient refers to a very small gradient off th loss function which causes slow learning rate.\n",
        "\n",
        "sigmoid function - has vanishing gradient RELU - does not have vanishing gradient\n",
        "\n",
        "\n",
        "\n",
        "\n",
        "\n",
        "\n"
      ]
    },
    {
      "cell_type": "markdown",
      "metadata": {
        "id": "dFMPV9CxIFCs"
      },
      "source": [
        "here we will implement the sigmoid activation function and it's gradient "
      ]
    },
    {
      "cell_type": "code",
      "metadata": {
        "id": "1IP_aR9bIFCt"
      },
      "source": [
        "\n",
        "def sigmoid(x):\n",
        "    #############################################################################\n",
        "    #                             YOUR CODE                                     #\n",
        "    #############################################################################   \n",
        "    sig = 1/(1+np.exp(-np.double(x)))\n",
        "    \n",
        "    ############################################################################\n",
        "    #                             END OF YOUR CODE                             #\n",
        "    ############################################################################\n",
        "    return sig\n",
        "def sigmoid_grad(x):\n",
        "    #############################################################################\n",
        "    #                             YOUR CODE                                     #\n",
        "    #############################################################################   \n",
        "    sig = sigmoid(x)\n",
        "    sig_grad = sig * (1-sig)\n",
        "    ############################################################################\n",
        "    #                             END OF YOUR CODE                             #\n",
        "    ############################################################################\n",
        "    return sig_grad\n"
      ],
      "execution_count": null,
      "outputs": []
    },
    {
      "cell_type": "markdown",
      "metadata": {
        "id": "nVYLu-cOIFCx"
      },
      "source": [
        "Implement a fully-vectorized loss function for the Softmax classifier\n",
        "Make sure the softmax is stable.\n",
        "To make our softmax function numerically stable,we simply normalize the values in the vector, \n",
        "by multiplying the numerator and denominator with a constant C.\n",
        "We can choose an arbitrary value for log(C) term, but generally log(C)=−max(a) is chosen, as it shifts all of elements in the vector to negative to zero, and negatives with large exponents saturate to zero rather than the infinity."
      ]
    },
    {
      "cell_type": "code",
      "metadata": {
        "id": "Mp4q0S7yIFCy"
      },
      "source": [
        "def softmax(x):\n",
        "    \"\"\"\n",
        "  Softmax loss function, should be implemented in a vectorized fashion (without loops)\n",
        "\n",
        "\n",
        "  Inputs:\n",
        "  - X: A numpy array of shape (N, C) containing a minibatch of data.\n",
        "  Returns:\n",
        "  - probabilities: A numpy array of shape (N, C) containing the softmax probabilities.\n",
        "\n",
        "  if you are not careful here, it is easy to run into numeric instability\n",
        "     \"\"\"\n",
        "    #############################################################################\n",
        "    #                             YOUR CODE                                     #\n",
        "    #############################################################################   \n",
        "    max_vec = x.max(1)\n",
        "    tiled = np.array([max_vec, ] * x.shape[1]).transpose()#np.tile(max_vec, x.shape[1])\n",
        "    stable_x = x-tiled\n",
        "    exp_mat = np.exp(stable_x)\n",
        "    exp_sum = np.sum(exp_mat, axis=1)\n",
        "    tiled = np.array([exp_sum, ] * x.shape[1]).T\n",
        "    probabilities = np.divide(exp_mat,tiled)\n",
        "    ############################################################################\n",
        "    #                             END OF YOUR CODE                             #\n",
        "    ############################################################################\n",
        "    return probabilities\n",
        "\n",
        "def cross_entropy_error(y, t):\n",
        "    \"\"\"\n",
        "    Inputs:\n",
        "\n",
        "    - t:  A numpy array of shape (N,C) containing  a minibatch of training labels, it is a one-hot array, \n",
        "      with t[GT]=1 and t=0 elsewhere, where GT is the ground truth label ; \n",
        "    - y: A numpy array of shape (N, C) containing the softmax probabilities (the NN's output).\n",
        "\n",
        "    Returns a tuple of:\n",
        "    - loss as single float (do not forget to divide by the number of samples in the minibatch (N))\n",
        "    \"\"\"\n",
        "    #############################################################################\n",
        "    #                             YOUR CODE                                     #\n",
        "    #############################################################################   \n",
        "    # Compute loss \n",
        "    # log_mat = -np.log(y + 0.0000001*np.ones_like(y))\n",
        "    # cross_entropy_vect = np.multiply(log_mat, t)\n",
        "    # error = np.mean(cross_entropy_vect)\n",
        "    y = y + 0.0000001*np.ones_like(y)\n",
        "    cross_entropy_vect = -np.log((t*y).sum(axis=1))\n",
        "    error = np.sum(cross_entropy_vect) / y.shape[0]\n",
        "    ############################################################################\n",
        "    #                             END OF YOUR CODE                             #\n",
        "    ############################################################################\n",
        "    return error"
      ],
      "execution_count": null,
      "outputs": []
    },
    {
      "cell_type": "markdown",
      "metadata": {
        "id": "RCu1s4BLIFC1"
      },
      "source": [
        "We will design and train a two-layer fully-connected neural network with sigmoid nonlinearity and\n",
        "softmax cross entropy loss. We assume an input dimension of D=784, a hidden dimension of H, and perform classification over C classes.\n",
        "\n",
        "The architecture should be fullyconnected -> sigmoid -> fullyconnected -> softmax.\n",
        "\n",
        "The learnable parameters of the model are stored in the dictionary,\n",
        "'params', that maps parameter names to numpy arrays.\n",
        "\n",
        "In the next cell we will initialize the weights and biases, design the fully connected(fc) forward and backward functions that will be in use for the training (using SGD).\n",
        "\n"
      ]
    },
    {
      "cell_type": "code",
      "metadata": {
        "id": "BOs-KahYIFC2"
      },
      "source": [
        "def TwoLayerNet( input_size, hidden_size, output_size, weight_init_std=0.01):\n",
        "    ############################################################################\n",
        "    # TODO: Initialize the weights and biases of the two-layer net. Weights    #\n",
        "    # should be initialized from a Gaussian with standard deviation equal to   #\n",
        "    # weight_init_std, and biases should be initialized to zero. All weights and  #\n",
        "    # biases should be stored in the dictionary 'params', with first layer  #\n",
        "    # weights and biases using the keys 'W1' and 'b1' and second layer weights #\n",
        "    # and biases using the keys 'W2' and 'b2'.                                 #\n",
        "    ############################################################################\n",
        "    w1 = np.random.normal(0.0, weight_init_std, (input_size,hidden_size))\n",
        "    w2 = np.random.normal(0.0, weight_init_std, (hidden_size,output_size))\n",
        "    params = {'W1':w1, 'b1':np.zeros(hidden_size), 'W2':w2, 'b2': np.zeros(output_size)}\n",
        "    ############################################################################\n",
        "    #                             END OF YOUR CODE                             #\n",
        "    ############################################################################\n",
        "    return params\n",
        "\n",
        "\n",
        "def FC_forward(x, w, b):\n",
        "    \"\"\"\n",
        "    Computes the forward pass for a fully-connected layer.\n",
        "    The input x has shape (N, D) aa LGnd contains a minibatch of N\n",
        "    examples, where each example x[i] has shape D and will be transformed to an output vector of dimension M.\n",
        "    Inputs:\n",
        "    - x: A numpy array containing input data, of shape (N, D)\n",
        "    - w: A numpy array of weights, of shape (D, M)\n",
        "    - b: A numpy array of biases, of shape (M,)\n",
        "\n",
        "    Returns a tuple of:\n",
        "    - out: output result of the forward pass, of shape (N, M)\n",
        "    - cache: (x, w, b)\n",
        "    \"\"\"\n",
        "    out = None\n",
        "    #############################################################################\n",
        "    #                             YOUR CODE                                     #\n",
        "    #############################################################################   \n",
        "    out = np.dot(x,w)+b\n",
        "    #############################################################################\n",
        "    #                             END OF YOUR CODE                              #\n",
        "    #############################################################################\n",
        "    cache = (x, w, b)\n",
        "    return out, cache\n",
        "\n",
        "\n",
        "\n",
        "def FC_backward(dout, cache):\n",
        "    \"\"\"\n",
        "    Computes the backward pass for a fully-connected layer.\n",
        "    Inputs:\n",
        "    - dout: Upstream derivative, of shape (N, M)\n",
        "    - cache: Tuple of:\n",
        "    - w: Weights, of shape (D, M)\n",
        "    Returns a tuple of:\n",
        "    - dx: Gradient with respect to x, of shape (N, D)\n",
        "    - dw: Gradient with respect to w, of shape (D, M)\n",
        "    - db: Gradient with respect to b, of shape (M,)\n",
        "    \"\"\"\n",
        "    x, w, b = cache\n",
        "    dx, dw, db = None, None, None\n",
        "    \n",
        "    #############################################################################\n",
        "    #                             YOUR CODE                                     #\n",
        "    #############################################################################   \n",
        "    dx = np.matmul(dout, w.T)\n",
        "    dw = np.matmul(x.T , dout)\n",
        "    db = np.matmul(dout.T, np.ones((dout.shape[0],)))\n",
        "    #############################################################################\n",
        "    #                             END OF YOUR CODE                              #\n",
        "    #############################################################################\n",
        "    return dx, dw, db\n",
        "\n"
      ],
      "execution_count": null,
      "outputs": []
    },
    {
      "cell_type": "markdown",
      "metadata": {
        "id": "Ttgcf5YeIFC5"
      },
      "source": [
        "Here we will design the entire model, which outputs the NN's probabilities and gradients.\n"
      ]
    },
    {
      "cell_type": "code",
      "metadata": {
        "id": "07syYZaYIFC6"
      },
      "source": [
        "def Model(params, x, t):\n",
        "    \"\"\"\n",
        "    Computes the backward pass for a fully-connected layer.\n",
        "    Inputs:\n",
        "    - params:  dictionary with first layer weights and biases using the keys 'W1' and 'b1' and second layer weights\n",
        "    and biases using the keys 'W2' and 'b2'. each with dimensions corresponding its input and output dimensions.  \n",
        "    - x: Input data, of shape (N,D)\n",
        "    - t:  A numpy array of shape (N,C) containing training labels, it is a one-hot array, \n",
        "      with t[GT]=1 and t=0 elsewhere, where GT is the ground truth label ; \n",
        "    Returns:\n",
        "    - y: the output probabilities for the minibatch (at the end of the forward pass) of shape (N,C)\n",
        "    - grads: dictionary containing gradients of the loss with respect to W1, W2, b1, b2.\n",
        "    \n",
        "    note: use the FC_forward ,FC_backward functions.\n",
        "\n",
        "    \"\"\"\n",
        "    W1, W2 = params['W1'], params['W2']\n",
        "    b1, b2 = params['b1'], params['b2']\n",
        "    grads = {'W1': None ,'W2': None, 'b1': None ,'b2': None }\n",
        "\n",
        "    batch_num = x.shape[0]\n",
        "\n",
        "    #############################################################################\n",
        "    #                             YOUR CODE                                     #\n",
        "    #############################################################################   \n",
        "    # forward (fullyconnected -> sigmoid -> fullyconnected -> softmax).\n",
        "    out1, cache1 = FC_forward(x,W1,b1)\n",
        "    sig_out = sigmoid(out1)\n",
        "    out2, cache2 = FC_forward(sig_out, W2, b2)\n",
        "    y = softmax(out2)\n",
        "    \n",
        "    # backward - calculate gradients.\n",
        "    grad_error_softmax = 1/batch_num*(y - t)\n",
        "    dx2, dw2, db2 = FC_backward(grad_error_softmax, cache2)\n",
        "    dy1 = np.multiply(dx2, sigmoid_grad(out1))\n",
        "    dx1, dw1, db1 =FC_backward(dy1, cache1)\n",
        "    grads['W1'] = dw1\n",
        "    grads['W2'] = dw2\n",
        "    grads['b1'] = db1\n",
        "    grads['b2'] = db2\n",
        "    #############################################################################\n",
        "    #                             END OF YOUR CODE                              #\n",
        "    #############################################################################\n",
        "    \n",
        "    return grads, y"
      ],
      "execution_count": null,
      "outputs": []
    },
    {
      "cell_type": "markdown",
      "metadata": {
        "id": "YPDLXpWcIFC9"
      },
      "source": [
        "Compute the accuracy of the NNs predictions.\n"
      ]
    },
    {
      "cell_type": "code",
      "metadata": {
        "id": "AS-mv6s3IFC9"
      },
      "source": [
        "\n",
        "\n",
        "def accuracy(y,t):\n",
        "    \"\"\"\n",
        "    Computes the accuracy of the NN's predictions.\n",
        "    Inputs:\n",
        "    - t:  A numpy array of shape (N,C) containing training labels, it is a one-hot array, \n",
        "      with t[GT]=1 and t=0 elsewhere, where GT is the ground truth label ; \n",
        "    - y: the output probabilities for the minibatch (at the end of the forward pass) of shape (N,C)\n",
        "    Returns:\n",
        "    - accuracy: a single float of the average accuracy.\n",
        "    \"\"\"\n",
        "    #############################################################################\n",
        "    #                             YOUR CODE                                     #\n",
        "    #############################################################################   \n",
        "    mul = np.multiply(y,t)\n",
        "    sat = np.where(mul<=0.7, 0, mul)\n",
        "    accuracy = 100*np.mean (np.sum(sat, axis=1))\n",
        "    \n",
        "    #############################################################################\n",
        "    #                             END OF YOUR CODE                              #\n",
        "    #############################################################################    \n",
        "    return accuracy\n",
        "\n"
      ],
      "execution_count": null,
      "outputs": []
    },
    {
      "cell_type": "markdown",
      "metadata": {
        "id": "nwJJtrHoIFDB"
      },
      "source": [
        "Trianing the model:\n",
        "To train our network we will use minibatch SGD.  \n",
        "*Note that the test dataset is actually used as the validation dataset in the training"
      ]
    },
    {
      "cell_type": "code",
      "metadata": {
        "id": "B4Fvu0jfIFDC",
        "colab": {
          "base_uri": "https://localhost:8080/",
          "height": 1000
        },
        "outputId": "c64b8ece-543e-4f7d-a2e0-401a0297698f"
      },
      "source": [
        "\n",
        "\n",
        "# You should be able to receive at least 97% accuracy, choose hyperparameters accordingly.\n",
        "\n",
        "epochs = 33\n",
        "mini_batch_size = 30\n",
        "learning_rate = 0.5\n",
        "num_hidden_cells = 200\n",
        "\n",
        "def Train(epochs_num, batch_size, lr, H):\n",
        "    #  Dividing a dataset into training data and test data\n",
        "\n",
        "    (x_train, t_train), (x_test, t_test) = load_mnist(normalize=True, one_hot_label=True)\n",
        "    \n",
        "    print(type(x_train))\n",
        "    print(x_train.shape)\n",
        "    C=10\n",
        "    D=x_train.shape[1]\n",
        "    network_params = TwoLayerNet(input_size=D, hidden_size=H, output_size=C) #hidden_size is the only hyperparameter here\n",
        "\n",
        "    train_size = x_train.shape[0]\n",
        "    train_loss_list = []\n",
        "    train_acc_list = []\n",
        "    test_acc_list = []\n",
        "    iter_per_epoch = round(train_size / batch_size)\n",
        "    \n",
        "    print('training of ' + str(epochs_num) +' epochs, each epoch will have '+ str(iter_per_epoch)+ ' iterations')\n",
        "    shuffle_vec = np.arange(train_size)\n",
        "    for i in range(epochs_num):\n",
        "    \n",
        "        train_loss_iter= []\n",
        "        train_acc_iter= []\n",
        "        np.random.shuffle(shuffle_vec)\n",
        "        for k in range(iter_per_epoch):\n",
        "            \n",
        "            \n",
        "            #############################################################################\n",
        "            #                             YOUR CODE                                     #\n",
        "            #############################################################################               \n",
        "            # 1. Select part of training data (mini-batch) randomly\n",
        "            mini_batch = x_train[shuffle_vec[k*mini_batch_size:(k+1)*mini_batch_size-1],:]\n",
        "            t_batch = t_train[shuffle_vec[k*mini_batch_size:(k+1)*mini_batch_size-1],:]\n",
        "\n",
        "            # 2. Calculate the predictions and the gradients to reduce the value of the loss function\n",
        "            grads, y_batch = Model(network_params, mini_batch, t_batch)\n",
        "            \n",
        "            # 3. Update weights and biases with the gradients \n",
        "            network_params['W1'] = network_params['W1'] - learning_rate * grads['W1']\n",
        "            network_params['W2'] = network_params['W2'] - learning_rate * grads['W2']\n",
        "            network_params['b1'] = network_params['b1'] - learning_rate * grads['b1']\n",
        "            network_params['b2'] = network_params['b2'] - learning_rate * grads['b2']\n",
        "            #############################################################################\n",
        "            #                             END OF YOUR CODE                              #\n",
        "            #############################################################################            \n",
        "        \n",
        "            # Calculate the loss and accuracy for visalizaton \n",
        "\n",
        "            error=cross_entropy_error(y_batch, t_batch)\n",
        "            train_loss_iter.append(error)\n",
        "            acc_iter=accuracy(y_batch, t_batch)\n",
        "            train_acc_iter.append(acc_iter)\n",
        "            if k == iter_per_epoch-1:\n",
        "                train_acc = np.mean(train_acc_iter)\n",
        "                train_acc_list.append(train_acc)\n",
        "                train_loss_list.append(np.mean(train_loss_iter))\n",
        "\n",
        "                _, y_test = Model(network_params, x_test, t_test)\n",
        "                test_acc = accuracy(y_test, t_test)\n",
        "                test_acc_list.append(test_acc)\n",
        "                print(\"train acc: \" + str(train_acc)[:5] + \"% |  test acc: \"   + str(test_acc) + \"% |  loss for epoch \" + str(i) +\": \"+ str(np.mean(train_loss_iter)))\n",
        "    return train_acc_list, test_acc_list, train_loss_list, network_params\n",
        "\n",
        "train_acc, test_acc, train_loss, net_params = Train(epochs, mini_batch_size, learning_rate, num_hidden_cells)\n",
        "\n",
        "markers = {'train': 'o', 'test': 's'}\n",
        "x = np.arange(len(train_acc))\n",
        "plt.plot(x, train_acc, label='train acc')\n",
        "plt.plot(x, test_acc, label='test acc', linestyle='--')\n",
        "plt.xlabel(\"epochs\")\n",
        "plt.ylabel(\"accuracy\")\n",
        "plt.legend(loc='lower right')\n",
        "plt.show()\n",
        "\n",
        "\n",
        "markers = {'train': 'o'}\n",
        "x = np.arange(len(train_loss))\n",
        "plt.plot(x, train_loss, label='train loss')\n",
        "plt.xlabel(\"epochs\")\n",
        "plt.ylabel(\"Loss\")\n",
        "plt.legend(loc='lower right')\n",
        "plt.show()\n"
      ],
      "execution_count": null,
      "outputs": [
        {
          "output_type": "stream",
          "text": [
            "<class 'numpy.ndarray'>\n",
            "(60000, 784)\n",
            "training of 33 epochs, each epoch will have 2000 iterations\n",
            "train acc: 72.63% |  test acc: 85.3161471722826% |  loss for epoch 0: 0.4122901360219346\n",
            "train acc: 87.81% |  test acc: 90.13574374581549% |  loss for epoch 1: 0.17266315906274501\n",
            "train acc: 91.05% |  test acc: 91.92999270519303% |  loss for epoch 2: 0.12365959446437326\n",
            "train acc: 92.85% |  test acc: 93.16455490469721% |  loss for epoch 3: 0.09547939198272316\n",
            "train acc: 94.01% |  test acc: 93.96230923740649% |  loss for epoch 4: 0.0779733363997478\n",
            "train acc: 94.83% |  test acc: 94.58642020130955% |  loss for epoch 5: 0.06479707905387187\n",
            "train acc: 95.49% |  test acc: 94.4061711380246% |  loss for epoch 6: 0.0545294795537547\n",
            "train acc: 96.01% |  test acc: 95.38963808433193% |  loss for epoch 7: 0.04689759325367389\n",
            "train acc: 96.43% |  test acc: 95.46297529114217% |  loss for epoch 8: 0.039718249450011144\n",
            "train acc: 96.80% |  test acc: 95.63433825419646% |  loss for epoch 9: 0.03443219142239406\n",
            "train acc: 97.18% |  test acc: 95.97005387886466% |  loss for epoch 10: 0.029725537328617217\n",
            "train acc: 97.49% |  test acc: 96.01099806555916% |  loss for epoch 11: 0.026023647466511104\n",
            "train acc: 97.74% |  test acc: 96.1694260231072% |  loss for epoch 12: 0.022450560722795523\n",
            "train acc: 97.99% |  test acc: 96.31432946283252% |  loss for epoch 13: 0.019733785570770754\n",
            "train acc: 98.22% |  test acc: 96.51546699040561% |  loss for epoch 14: 0.017274527750013764\n",
            "train acc: 98.39% |  test acc: 96.48796310291031% |  loss for epoch 15: 0.015347536471258333\n",
            "train acc: 98.62% |  test acc: 96.4537199489839% |  loss for epoch 16: 0.013064819794345723\n",
            "train acc: 98.75% |  test acc: 96.64272541641581% |  loss for epoch 17: 0.01146713088635466\n",
            "train acc: 98.89% |  test acc: 96.68589862814471% |  loss for epoch 18: 0.010436765115263896\n",
            "train acc: 99.03% |  test acc: 96.74834680162232% |  loss for epoch 19: 0.00933059655746943\n",
            "train acc: 99.13% |  test acc: 96.80887562705777% |  loss for epoch 20: 0.008356207302283853\n",
            "train acc: 99.22% |  test acc: 96.83879064714814% |  loss for epoch 21: 0.007555874905562744\n",
            "train acc: 99.28% |  test acc: 96.86860966478059% |  loss for epoch 22: 0.006661928316119282\n",
            "train acc: 99.35% |  test acc: 96.88688312181168% |  loss for epoch 23: 0.0062006578431328865\n",
            "train acc: 99.41% |  test acc: 96.82045883560679% |  loss for epoch 24: 0.005590584262727296\n",
            "train acc: 99.46% |  test acc: 97.00092901586011% |  loss for epoch 25: 0.005150357413562727\n",
            "train acc: 99.51% |  test acc: 96.9346963322818% |  loss for epoch 26: 0.004698352982580106\n",
            "train acc: 99.54% |  test acc: 96.94788762626831% |  loss for epoch 27: 0.004376115677343019\n",
            "train acc: 99.59% |  test acc: 97.01863468132713% |  loss for epoch 28: 0.0040465511740761404\n",
            "train acc: 99.61% |  test acc: 97.0155930273205% |  loss for epoch 29: 0.003789907427691023\n",
            "train acc: 99.63% |  test acc: 97.09483373680682% |  loss for epoch 30: 0.0035695464914699718\n",
            "train acc: 99.65% |  test acc: 97.02552675210514% |  loss for epoch 31: 0.0033699773109914085\n",
            "train acc: 99.69% |  test acc: 97.0991854472551% |  loss for epoch 32: 0.003131235750293331\n"
          ],
          "name": "stdout"
        },
        {
          "output_type": "display_data",
          "data": {
            "image/png": "[encoded data removed]",
            "text/plain": [
              "<Figure size 432x288 with 1 Axes>"
            ]
          },
          "metadata": {
            "tags": [],
            "needs_background": "light"
          }
        },
        {
          "output_type": "display_data",
          "data": {
            "image/png": "[encoded data removed]",
            "text/plain": [
              "<Figure size 432x288 with 1 Axes>"
            ]
          },
          "metadata": {
            "tags": [],
            "needs_background": "light"
          }
        }
      ]
    },
    {
      "cell_type": "code",
      "metadata": {
        "id": "xheTj7Z-XtBF"
      },
      "source": [
        ""
      ],
      "execution_count": null,
      "outputs": []
    },
    {
      "cell_type": "code",
      "metadata": {
        "id": "PXQK2jWAXt8B"
      },
      "source": [
        ""
      ],
      "execution_count": null,
      "outputs": []
    },
    {
      "cell_type": "markdown",
      "metadata": {
        "id": "5E2I2GpOIFDH"
      },
      "source": [
        "# You should be able to receive at least 97% accuracy, choose hyperparameters accordingly.\n"
      ]
    },
    {
      "cell_type": "markdown",
      "metadata": {
        "id": "R81tqW63IFDI"
      },
      "source": [
        "**QUESTION 2:** Explain the results looking at the visualizations above, base your answer on the hyperparameters.\n",
        "\n",
        "**ANSWER:** as can be seen, the loss gets smaller with each epoch as the acc increases\n",
        "\n",
        "\n",
        "\n"
      ]
    },
    {
      "cell_type": "markdown",
      "metadata": {
        "id": "c62bjGf8IFDK"
      },
      "source": [
        "**QUESTION** 3: Suggest a way to improve the results by changing the networks's architecture  \n",
        "\n",
        "**ANSWER**: Use a different activation function which does not suffer from the vanishing gradients problem\n",
        "\n",
        "\n"
      ]
    },
    {
      "cell_type": "code",
      "metadata": {
        "id": "BvstDmGeIFDL",
        "colab": {
          "base_uri": "https://localhost:8080/",
          "height": 1000
        },
        "outputId": "9a2e5fee-4a8c-4c7d-c19a-0e1b21a3bbe0"
      },
      "source": [
        "# Visualize some weights. features of digits should be somehow present.\n",
        "def show_net_weights(params):\n",
        "    W1 = params['W1']\n",
        "    print(W1.shape)\n",
        "    for i in range(5):\n",
        "        W = W1[:,i*5].reshape(28, 28)\n",
        "        plt.imshow(W,cmap='gray')\n",
        "        plt.axis('off')\n",
        "        plt.show()\n",
        "\n",
        "show_net_weights(net_params)\n"
      ],
      "execution_count": null,
      "outputs": [
        {
          "output_type": "stream",
          "text": [
            "(784, 200)\n"
          ],
          "name": "stdout"
        },
        {
          "output_type": "display_data",
          "data": {
            "image/png": "[encoded data removed]",
            "text/plain": [
              "<Figure size 432x288 with 1 Axes>"
            ]
          },
          "metadata": {
            "tags": [],
            "needs_background": "light"
          }
        },
        {
          "output_type": "display_data",
          "data": {
            "image/png": "[encoded data removed]",
            "text/plain": [
              "<Figure size 432x288 with 1 Axes>"
            ]
          },
          "metadata": {
            "tags": [],
            "needs_background": "light"
          }
        },
        {
          "output_type": "display_data",
          "data": {
            "image/png": "[encoded data removed]",
            "text/plain": [
              "<Figure size 432x288 with 1 Axes>"
            ]
          },
          "metadata": {
            "tags": [],
            "needs_background": "light"
          }
        },
        {
          "output_type": "display_data",
          "data": {
            "image/png": "[encoded data removed]",
            "text/plain": [
              "<Figure size 432x288 with 1 Axes>"
            ]
          },
          "metadata": {
            "tags": [],
            "needs_background": "light"
          }
        },
        {
          "output_type": "display_data",
          "data": {
            "image/png": "[encoded data removed]",
            "text/plain": [
              "<Figure size 432x288 with 1 Axes>"
            ]
          },
          "metadata": {
            "tags": [],
            "needs_background": "light"
          }
        }
      ]
    },
    {
      "cell_type": "markdown",
      "metadata": {
        "id": "LWE9-3qSOzBJ"
      },
      "source": [
        "Implement, train and test the same two-layer network, using a **deep learning library** (pytorch/tensorflow/keras).\n",
        "\n",
        "As before, you should be able to receive at least 97% accuracy.\n",
        "\n",
        "Please note, that in this section you will need to implement the model, the training and the testing by yourself (you may use the code in earlier sections)\n",
        "Don't forget to print the accuracy during training (in the same format as before).\n",
        "\n",
        "For installing a deep learning library, you should use \"!pip3 install...\" (lookup the compatible syntex for your library)"
      ]
    },
    {
      "cell_type": "code",
      "metadata": {
        "id": "UU5fdOGFNcMO",
        "colab": {
          "base_uri": "https://localhost:8080/"
        },
        "outputId": "51e09a9c-6b06-4b9c-d927-91a56d88d5c5"
      },
      "source": [
        " #############################################################################\n",
        " #                             YOUR CODE                                     #\n",
        " ############################################################################# \n",
        "import torch\n",
        "import torchvision\n",
        "import matplotlib.pyplot as plt\n",
        "from time import time\n",
        "from torchvision import datasets, transforms\n",
        "from torch import nn, optim\n",
        "import pdb;\n",
        "\n",
        "(x_train, t_train), (x_test, t_test) = load_mnist(normalize=True, flatten=False)\n",
        "x_test= torch.FloatTensor(x_test)\n",
        "t_test= torch.LongTensor(t_test)\n",
        "\n",
        "input_size = 784\n",
        "hidden_sizes = 200\n",
        "output_size = 10\n",
        "\n",
        "model = nn.Sequential(nn.Linear(input_size, hidden_sizes),\n",
        "                      nn.Sigmoid(),\n",
        "                      nn.Linear(hidden_sizes, output_size),\n",
        "                      nn.LogSoftmax(dim=1))\n",
        "\n",
        "\n",
        "criterion = nn.NLLLoss()\n",
        "optimizer = optim.SGD(model.parameters(), lr=0.03, momentum=0.9)\n",
        "epochs = 33\n",
        "\n",
        "batch_size = 64\n",
        "train_size = x_train.shape[0]\n",
        "shuffle_vec = np.arange(train_size)\n",
        "iter_per_epoch = round(train_size / batch_size)\n",
        "\n",
        "for e in range(epochs):\n",
        "    running_loss = 0\n",
        "    for k in range(iter_per_epoch):\n",
        "        mini_batch = x_train[shuffle_vec[k*batch_size:(k+1)*batch_size-1],:,:,:]\n",
        "        t_batch = t_train[shuffle_vec[k*batch_size:(k+1)*batch_size-1]]\n",
        "        mini_batch = torch.FloatTensor(mini_batch)\n",
        "        labels = torch.LongTensor(t_batch)\n",
        "        mini_batch= mini_batch.view(mini_batch.shape[0],-1)\n",
        "\n",
        "        optimizer.zero_grad()\n",
        "        output = model(mini_batch)\n",
        "        loss = criterion(output, labels)\n",
        "\n",
        "        loss.backward()\n",
        "\n",
        "        optimizer.step()\n",
        "\n",
        "        running_loss += loss.item()\n",
        "    else:\n",
        "        correct_count, all_count = 0, 0\n",
        "        img = x_test.view(x_test.shape[0], -1)\n",
        "        # Turn off gradients to speed up this part\n",
        "        with torch.no_grad():\n",
        "            logps = model(img)\n",
        "\n",
        "            # Output of the network are log-probabilities, need to take exponential for probabilities\n",
        "        ps = torch.exp(logps)\n",
        "        probab = list(ps.numpy())\n",
        "        for i in range(len(t_test)):\n",
        "            tmpArr=list(probab[i])\n",
        "            pred_label = tmpArr.index(max(tmpArr))\n",
        "            true_label = t_test.numpy()[i]\n",
        "            if (true_label == pred_label):\n",
        "                correct_count += 1\n",
        "            all_count += 1\n",
        "            # pdb.set_trace()\n",
        "    print(\"\\nEpoch:\",e+1,\"| Model Accuracy =\", (100*correct_count / all_count),\"%\")\n",
        "\n",
        "\n",
        "\n"
      ],
      "execution_count": null,
      "outputs": [
        {
          "output_type": "stream",
          "text": [
            "\n",
            "Epoch: 1 | Model Accuracy = 90.82 %\n",
            "\n",
            "Epoch: 2 | Model Accuracy = 92.69 %\n",
            "\n",
            "Epoch: 3 | Model Accuracy = 93.67 %\n",
            "\n",
            "Epoch: 4 | Model Accuracy = 94.47 %\n",
            "\n",
            "Epoch: 5 | Model Accuracy = 95.12 %\n",
            "\n",
            "Epoch: 6 | Model Accuracy = 95.5 %\n",
            "\n",
            "Epoch: 7 | Model Accuracy = 95.91 %\n",
            "\n",
            "Epoch: 8 | Model Accuracy = 96.27 %\n",
            "\n",
            "Epoch: 9 | Model Accuracy = 96.53 %\n",
            "\n",
            "Epoch: 10 | Model Accuracy = 96.75 %\n",
            "\n",
            "Epoch: 11 | Model Accuracy = 96.92 %\n",
            "\n",
            "Epoch: 12 | Model Accuracy = 97.0 %\n",
            "\n",
            "Epoch: 13 | Model Accuracy = 97.16 %\n",
            "\n",
            "Epoch: 14 | Model Accuracy = 97.25 %\n",
            "\n",
            "Epoch: 15 | Model Accuracy = 97.33 %\n",
            "\n",
            "Epoch: 16 | Model Accuracy = 97.36 %\n",
            "\n",
            "Epoch: 17 | Model Accuracy = 97.46 %\n",
            "\n",
            "Epoch: 18 | Model Accuracy = 97.58 %\n",
            "\n",
            "Epoch: 19 | Model Accuracy = 97.62 %\n",
            "\n",
            "Epoch: 20 | Model Accuracy = 97.7 %\n",
            "\n",
            "Epoch: 21 | Model Accuracy = 97.7 %\n",
            "\n",
            "Epoch: 22 | Model Accuracy = 97.73 %\n",
            "\n",
            "Epoch: 23 | Model Accuracy = 97.79 %\n",
            "\n",
            "Epoch: 24 | Model Accuracy = 97.85 %\n",
            "\n",
            "Epoch: 25 | Model Accuracy = 97.85 %\n",
            "\n",
            "Epoch: 26 | Model Accuracy = 97.87 %\n",
            "\n",
            "Epoch: 27 | Model Accuracy = 97.91 %\n",
            "\n",
            "Epoch: 28 | Model Accuracy = 97.93 %\n",
            "\n",
            "Epoch: 29 | Model Accuracy = 97.96 %\n",
            "\n",
            "Epoch: 30 | Model Accuracy = 97.96 %\n",
            "\n",
            "Epoch: 31 | Model Accuracy = 97.94 %\n",
            "\n",
            "Epoch: 32 | Model Accuracy = 97.95 %\n",
            "\n",
            "Epoch: 33 | Model Accuracy = 97.98 %\n"
          ],
          "name": "stdout"
        }
      ]
    }
  ]
}